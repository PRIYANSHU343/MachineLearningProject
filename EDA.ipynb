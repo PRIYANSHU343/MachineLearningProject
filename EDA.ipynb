{
 "cells": [
  {
   "cell_type": "code",
   "execution_count": 2,
   "id": "060d96bf",
   "metadata": {},
   "outputs": [],
   "source": [
    "import numpy as np\n",
    "import pandas as pd\n",
    "from matplotlib import pyplot as plt\n",
    "from sklearn.preprocessing import StandardScaler, RobustScaler, MinMaxScaler\n",
    "import seaborn as sns\n",
    "from collections import Counter"
   ]
  },
  {
   "cell_type": "code",
   "execution_count": null,
   "id": "f42ab796",
   "metadata": {},
   "outputs": [],
   "source": [
    "d1 = pd.read_csv('../data/SL132001-data (11).csv')\n",
    "d2 = pd.read_csv('../data/SL132001-data (12).csv')"
   ]
  },
  {
   "cell_type": "code",
   "execution_count": null,
   "id": "e785adf2",
   "metadata": {},
   "outputs": [],
   "source": [
    "data = pd.concat([d1.iloc[1:], d2[1:]], axis=0, ignore_index=True)"
   ]
  },
  {
   "cell_type": "code",
   "execution_count": null,
   "id": "f79c8a9d",
   "metadata": {},
   "outputs": [],
   "source": [
    "# Drop columns\n",
    "data.drop(columns=['Date', 'Time GMT -4', 'Latitude', 'Longitude', 'Unnamed: 16'], inplace=True)"
   ]
  },
  {
   "cell_type": "code",
   "execution_count": null,
   "id": "98f9e20e",
   "metadata": {},
   "outputs": [],
   "source": [
    "# Conver timestamp\n",
    "data['Timestamp'] = pd.to_datetime(data.Timestamp, unit='ms')\n",
    "data.set_index('Timestamp', inplace=True)\n",
    "data.index = data.index.tz_localize('UTC').tz_convert('US/Eastern')\n",
    "data.head()"
   ]
  },
  {
   "cell_type": "code",
   "execution_count": null,
   "id": "c3bdca32",
   "metadata": {},
   "outputs": [],
   "source": [
    "intervals = []\n",
    "for i in range(1, len(data.index)):\n",
    "    intervals.append((data.index[i] - data.index[i-1]).seconds)"
   ]
  },
  {
   "cell_type": "code",
   "execution_count": null,
   "id": "3b747da8",
   "metadata": {},
   "outputs": [],
   "source": [
    "cnt = Counter(intervals)\n",
    "df_cnt = pd.DataFrame(sorted(cnt.items(), key=lambda x: x[1], reverse=True))\n",
    "df_cnt.columns = ['Interval (s)', 'Counts']\n",
    "df_cnt.head(5)"
   ]
  },
  {
   "cell_type": "code",
   "execution_count": null,
   "id": "8620cccb",
   "metadata": {},
   "outputs": [],
   "source": [
    "#time series and single plot\n",
    "for col in data.columns:\n",
    "    fig, ax = plt.subplots(figsize=(16, 6))\n",
    "    data.plot(y=col, use_index=True, ax=ax)\n",
    "    ax.set_title(col)\n",
    "plt.show()"
   ]
  },
  {
   "cell_type": "code",
   "execution_count": null,
   "id": "f425b2bd",
   "metadata": {},
   "outputs": [],
   "source": []
  },
  {
   "cell_type": "code",
   "execution_count": null,
   "id": "0205e04d",
   "metadata": {},
   "outputs": [],
   "source": []
  },
  {
   "cell_type": "code",
   "execution_count": null,
   "id": "79e6179c",
   "metadata": {},
   "outputs": [],
   "source": []
  }
 ],
 "metadata": {
  "kernelspec": {
   "display_name": "Python 3 (ipykernel)",
   "language": "python",
   "name": "python3"
  },
  "language_info": {
   "codemirror_mode": {
    "name": "ipython",
    "version": 3
   },
   "file_extension": ".py",
   "mimetype": "text/x-python",
   "name": "python",
   "nbconvert_exporter": "python",
   "pygments_lexer": "ipython3",
   "version": "3.11.4"
  }
 },
 "nbformat": 4,
 "nbformat_minor": 5
}
