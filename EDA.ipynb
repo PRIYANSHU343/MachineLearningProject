import numpy as np
import pandas as pd
from matplotlib import pyplot as plt
from sklearn.preprocessing import StandardScaler, RobustScaler, MinMaxScaler
import seaborn as sns
from collections import Counter

#Concat Tables

d1 = pd.read_csv('../data/SL132001-data (11).csv')
d2 = pd.read_csv('../data/SL132001-data (12).csv')
data = pd.concat([d1.iloc[1:], d2[1:]], axis=0, ignore_index=True)


#Trim data

# Drop columns
data.drop(columns=['Date', 'Time GMT -4', 'Latitude', 'Longitude', 'Unnamed: 16'], inplace=True)
# Conver timestamp
data['Timestamp'] = pd.to_datetime(data.Timestamp, unit='ms')
data.set_index('Timestamp', inplace=True)
data.index = data.index.tz_localize('UTC').tz_convert('US/Eastern')
data.head()

intervals = []
for i in range(1, len(data.index)):
    intervals.append((data.index[i] - data.index[i-1]).seconds)
cnt = Counter(intervals)
df_cnt = pd.DataFrame(sorted(cnt.items(), key=lambda x: x[1], reverse=True))
df_cnt.columns = ['Interval (s)', 'Counts']
df_cnt.head(5)

print(min(intervals), max(intervals))

# Plot each feature vs time
fig, ax = plt.subplots(figsize=(16, 6))
for col in data.columns:
    data[col] = data[col].astype('float64')    
    data.plot(y=col, use_index=True, ax=ax)
plt.show()
