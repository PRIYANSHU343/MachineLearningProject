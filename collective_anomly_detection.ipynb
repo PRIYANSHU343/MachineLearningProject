{
 "cells": [
  {
   "cell_type": "code",
   "execution_count": null,
   "id": "60d7064d",
   "metadata": {},
   "outputs": [],
   "source": [
    "import numpy as np\n",
    "import pandas as pd\n",
    "import matplotlib.pyplot as plt\n",
    "import pickle\n",
    "from sklearn.ensemble import GradientBoostingRegressor\n",
    "from tqdm.notebook import tqdm"
   ]
  },
  {
   "cell_type": "code",
   "execution_count": null,
   "id": "d066307f",
   "metadata": {},
   "outputs": [],
   "source": [
    "# Load dataframes from pickle file\n",
    "with open('../data/data_full.pkl', 'rb') as f:\n",
    "    data, data_norm = pickle.load(f)"
   ]
  },
  {
   "cell_type": "code",
   "execution_count": null,
   "id": "44166b90",
   "metadata": {},
   "outputs": [],
   "source": [
    "def is_outlier(data, rolling_median, thresh):\n",
    "    if not pd.isna(rolling_median):\n",
    "        return abs(data - rolling_median) >= thresh"
   ]
  },
  {
   "cell_type": "code",
   "execution_count": null,
   "id": "a3bce8e1",
   "metadata": {},
   "outputs": [],
   "source": [
    "# Remove outliers/point anomalies\n",
    "data_nrm5 = data_norm.rolling(5, center=True).median()\n",
    "data_nc = data_norm.copy()\n",
    "s = data_nc.shape\n",
    "for j in range(s[1]):\n",
    "    for i in range(s[0]):\n",
    "        if is_outlier(data_nc.iloc[i, j], data_nrm5.iloc[i, j], 0.2):\n",
    "            data_nc.iloc[i, j] = data_nrm5.iloc[i, j]"
   ]
  },
  {
   "cell_type": "code",
   "execution_count": null,
   "id": "58a9ce38",
   "metadata": {},
   "outputs": [],
   "source": [
    "#Feature Extraction and Regression\n",
    "def ts_to_features(ts, n_features=61):\n",
    "    X, y = np.zeros([len(ts) - n_features, n_features]), np.zeros([len(ts) - n_features, 1])\n",
    "    for i in range(len(ts)-n_features):\n",
    "        X[i, :] = ts[i:i+n_features]\n",
    "        y[i] = ts[i+n_features]\n",
    "    return X, y.flatten()"
   ]
  },
  {
   "cell_type": "code",
   "execution_count": null,
   "id": "0ec43e47",
   "metadata": {},
   "outputs": [],
   "source": [
    "def ts_predict(X, y):\n",
    "    lower_alpha = 0.1\n",
    "    upper_alpha = 0.9\n",
    "    predictions = np.ones([1, 4])\n",
    "    for i in tqdm(range(1, X.shape[0])):\n",
    "        lower_model = GradientBoostingRegressor(loss=\"quantile\",                   \n",
    "                                        alpha=lower_alpha)\n",
    "        mid_model = GradientBoostingRegressor(loss=\"ls\")\n",
    "        upper_model = GradientBoostingRegressor(loss=\"quantile\",\n",
    "                                                alpha=upper_alpha)\n",
    "        lower_model.fit(X[:i,:], y[:i])\n",
    "        mid_model.fit(X[:i,:], y[:i])\n",
    "        upper_model.fit(X[:i,:], y[:i])\n",
    "        \n",
    "        pred = np.hstack([y[i], \n",
    "                          lower_model.predict(X[i:i+1, :]),\n",
    "                          mid_model.predict(X[i:i+1, :]),\n",
    "                          upper_model.predict(X[i:i+1, :])])\n",
    "        predictions = np.vstack([predictions, pred])\n",
    "    return predictions[1:, :]"
   ]
  }
 ],
 "metadata": {
  "kernelspec": {
   "display_name": "Python 3 (ipykernel)",
   "language": "python",
   "name": "python3"
  },
  "language_info": {
   "codemirror_mode": {
    "name": "ipython",
    "version": 3
   },
   "file_extension": ".py",
   "mimetype": "text/x-python",
   "name": "python",
   "nbconvert_exporter": "python",
   "pygments_lexer": "ipython3",
   "version": "3.11.4"
  }
 },
 "nbformat": 4,
 "nbformat_minor": 5
}
