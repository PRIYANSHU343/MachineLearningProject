{
 "cells": [
  {
   "cell_type": "code",
   "execution_count": null,
   "id": "711bfa54",
   "metadata": {},
   "outputs": [],
   "source": [
    "import numpy as np\n",
    "import pandas as pd\n",
    "import matplotlib.pyplot as plt\n",
    "import pickle"
   ]
  },
  {
   "cell_type": "code",
   "execution_count": null,
   "id": "74d4f8f7",
   "metadata": {},
   "outputs": [],
   "source": [
    "# Load dataframes from pickle files\n",
    "with open('../data/data_full.pkl', 'rb') as f:\n",
    "    data, data_norm = pickle.load(f)"
   ]
  },
  {
   "cell_type": "code",
   "execution_count": null,
   "id": "c1f73743",
   "metadata": {},
   "outputs": [],
   "source": [
    "#point anomly detection\n",
    "def is_outlier(data, rolling_median, thresh):\n",
    "    return abs(data - rolling_median) >= thresh"
   ]
  },
  {
   "cell_type": "code",
   "execution_count": null,
   "id": "d0d452f0",
   "metadata": {},
   "outputs": [],
   "source": [
    "# Label the outliers\n",
    "data_nrm5 = data_norm.rolling(5, center=True).median()\n",
    "labels = is_outlier(data_norm, data_nrm5, 0.17).astype('int')"
   ]
  },
  {
   "cell_type": "code",
   "execution_count": null,
   "id": "d755171c",
   "metadata": {},
   "outputs": [],
   "source": [
    "# Comparison of selected time series\n",
    "tick = ax.get_xticklabels()\n",
    "ind = [8, 2, 3]\n",
    "fig, axs = plt.subplots(3, 2, sharex=True, figsize=(16, 8))\n",
    "axs[0][0].set_title('Before Flagging Point Anomalies')\n",
    "axs[0][1].set_title('After Flagging Point Anomalies')\n",
    "for i in range(3):\n",
    "    series, label = data_norm.iloc[:, ind[i]], labels.iloc[:, ind[i]]\n",
    "    c = [np.zeros(len(series)), label]\n",
    "    for j in range(2):\n",
    "        ax = axs[i][j]\n",
    "        ax.scatter(series.index, series, c=c[j], cmap=plt.get_cmap('coolwarm'))\n",
    "        ax.set_xlim(series.index[0], series.index[-1])\n",
    "        ax.set_ylabel(data_norm.columns[ind[i]])\n",
    "for j in range(2):\n",
    "    ax = axs[2][j]\n",
    "    ax.set_xticklabels(tick, rotation=30)\n",
    "    ax.set_xlabel('Timestamp')\n",
    "plt.show()"
   ]
  },
  {
   "cell_type": "code",
   "execution_count": null,
   "id": "d6259f9e",
   "metadata": {},
   "outputs": [],
   "source": [
    "# Zoomed-in scatter plot of Carbon Dioxide, with labeled outliers and prediction interval\n",
    "t = ['2020-05-27 09:00:00-04:00', '2020-05-29 9:00:00-04:00']\n",
    "series = data_norm['Carbon Dioxide - Low Conc.']\n",
    "series = series.loc[(series.index > t[0]) & (series.index < t[1])]\n",
    "label = labels['Carbon Dioxide - Low Conc.']\n",
    "label = label.loc[(label.index > t[0]) & (label.index < t[1])]\n",
    "series_nrm5 = data_nrm5['Carbon Dioxide - Low Conc.']\n",
    "series_nrm5 = series_nrm5.loc[(series_nrm5.index > t[0]) & (series_nrm5.index < t[1])]\n",
    "fig, ax = plt.subplots(figsize=(16, 6))\n",
    "plt.scatter(series.index, series, c=label, cmap=plt.get_cmap('coolwarm'), label='Data Points')\n",
    "plt.plot(series_nrm5.index, series_nrm5, color='tab:orange', label='Rolling Median of 5')\n",
    "plt.plot(series_nrm5.index, series_nrm5+0.17, color='tab:green', label='Upper and Lower Bounds')\n",
    "plt.plot(series_nrm5.index, series_nrm5-0.17, color='tab:green')\n",
    "plt.fill_between(series_nrm5.index, series_nrm5, series_nrm5+0.17, color='tab:green', alpha=0.05, label='Prediction Interval')\n",
    "plt.fill_between(series_nrm5.index, series_nrm5, series_nrm5-0.17, color='tab:green', alpha=0.05)\n",
    "plt.xlim(series.index[0], series.index[-1])\n",
    "plt.legend()\n",
    "plt.xlabel('Timestamp')\n",
    "plt.ylabel('Normalized Value')\n",
    "plt.title('Carbon Dioxide - Low Conc.')\n",
    "plt.show()"
   ]
  },
  {
   "cell_type": "code",
   "execution_count": null,
   "id": "b50043f8",
   "metadata": {},
   "outputs": [],
   "source": []
  },
  {
   "cell_type": "code",
   "execution_count": null,
   "id": "00b1309c",
   "metadata": {},
   "outputs": [],
   "source": []
  },
  {
   "cell_type": "code",
   "execution_count": null,
   "id": "c8c08a80",
   "metadata": {},
   "outputs": [],
   "source": []
  }
 ],
 "metadata": {
  "kernelspec": {
   "display_name": "Python 3 (ipykernel)",
   "language": "python",
   "name": "python3"
  },
  "language_info": {
   "codemirror_mode": {
    "name": "ipython",
    "version": 3
   },
   "file_extension": ".py",
   "mimetype": "text/x-python",
   "name": "python",
   "nbconvert_exporter": "python",
   "pygments_lexer": "ipython3",
   "version": "3.11.4"
  }
 },
 "nbformat": 4,
 "nbformat_minor": 5
}
